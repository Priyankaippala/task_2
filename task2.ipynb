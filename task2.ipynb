{
 "cells": [
  {
   "cell_type": "code",
   "execution_count": 2,
   "id": "525dca40",
   "metadata": {},
   "outputs": [
    {
     "name": "stdout",
     "output_type": "stream",
     "text": [
      "5\n",
      "6 5 3 4 8 2 \n",
      "6\n"
     ]
    }
   ],
   "source": [
    "#find the runner up score\n",
    "if __name__ == '__main__':\n",
    "    n = int(input())\n",
    "    arr = list(map(int, input().split()))\n",
    "    temp = 0\n",
    "    for i in arr:\n",
    "        if i>temp:\n",
    "            temp = i\n",
    "    li = []\n",
    "    for i in arr:\n",
    "        if temp != i:\n",
    "            li.append(i)\n",
    "    temp2 = 0\n",
    "    for i in li:\n",
    "        if i>temp2:\n",
    "            temp2 = i\n",
    "    print(temp2)\n"
   ]
  },
  {
   "cell_type": "code",
   "execution_count": 3,
   "id": "dcb222cf",
   "metadata": {},
   "outputs": [
    {
     "name": "stdout",
     "output_type": "stream",
     "text": [
      "1\n",
      "2\n",
      "1\n",
      "5\n",
      "[[0, 0, 0], [0, 0, 1], [0, 1, 0], [0, 1, 1], [0, 2, 0], [0, 2, 1], [1, 0, 0], [1, 0, 1], [1, 1, 0], [1, 1, 1], [1, 2, 0], [1, 2, 1]]\n"
     ]
    }
   ],
   "source": [
    "#list comprehension\n",
    "if __name__ == '__main__':\n",
    "    x = int(input())\n",
    "    y = int(input())\n",
    "    z = int(input())\n",
    "    n = int(input())\n",
    "    li = [[i,j,k] for i in range(x+1) for j in range(y+1) for k in range(z+1) if (i+j+k)!=n]\n",
    "    print(li)\n"
   ]
  },
  {
   "cell_type": "code",
   "execution_count": 5,
   "id": "571f5900",
   "metadata": {
    "scrolled": true
   },
   "outputs": [
    {
     "name": "stdout",
     "output_type": "stream",
     "text": [
      "5\n",
      "ravi\n",
      "37.5\n",
      "kriti\n",
      "36.9\n",
      "harish\n",
      "39.8\n",
      "vamsi\n",
      "37.5\n",
      "sunny\n",
      "33.7\n",
      "kriti\n"
     ]
    }
   ],
   "source": [
    "#nested lists\n",
    "if __name__ == '__main__':\n",
    "    li1 = []\n",
    "    for _ in range(int(input())):\n",
    "        name = input()\n",
    "        score = float(input())\n",
    "        li1.append([name,score])\n",
    "    subli = li1[0]\n",
    "    temp = subli[1]\n",
    "    li2 = []\n",
    "    for i in li1:\n",
    "        if temp > i[1]:\n",
    "            temp = i[1]\n",
    "    for i in li1:\n",
    "        if temp==i[1]:\n",
    "            li1.remove(i)\n",
    "    temp = subli[1]\n",
    "    for i in li1:\n",
    "        if temp > i[1]:\n",
    "            temp = i[1]\n",
    "    for i in li1:\n",
    "        if temp==i[1]:\n",
    "           li2.append(i[0])\n",
    "    li2.reverse()\n",
    "    for i in li2:\n",
    "        print(i)  "
   ]
  },
  {
   "cell_type": "code",
   "execution_count": 1,
   "id": "f3adf8bf",
   "metadata": {},
   "outputs": [
    {
     "name": "stdout",
     "output_type": "stream",
     "text": [
      "3\n",
      "krishna 67 68 69\n",
      "arjun 70 98 63\n",
      "malika 52 56 60\n",
      "malika\n",
      "56.00\n"
     ]
    }
   ],
   "source": [
    "# finding the average marks\n",
    "\n",
    "if __name__ == '__main__':\n",
    "    n = int(input())\n",
    "    student_marks = {}\n",
    "    for _ in range(n):\n",
    "        name, *line = input().split()\n",
    "        scores = list(map(float, line))\n",
    "        student_marks[name] = scores\n",
    "    query_name = input()\n",
    "    for k in student_marks.keys():\n",
    "        if k==query_name:\n",
    "            summ = 0\n",
    "            for i in student_marks[k]:\n",
    "                summ += i;\n",
    "            result = f'{summ/3:.2f}'\n",
    "            print(result)\n",
    "            \n",
    "# 3\n",
    "# Krishna 67 68 69\n",
    "# Arjun 70 98 63\n",
    "# Malika 52 56 60\n",
    "# Malika"
   ]
  },
  {
   "cell_type": "code",
   "execution_count": 2,
   "id": "b6858412",
   "metadata": {},
   "outputs": [
    {
     "name": "stdout",
     "output_type": "stream",
     "text": [
      "12\n",
      "insert 0 5\n",
      "insert 1 10\n",
      "insert 0 6\n",
      "print\n",
      "[6, 5, 10]\n",
      "remove 6\n",
      " append 9\n",
      "append 1\n",
      " sort\n",
      "print\n",
      "[1, 5, 9, 10]\n",
      "pop\n",
      "reverse\n",
      "print\n",
      "[9, 5, 1]\n"
     ]
    }
   ],
   "source": [
    "#lists\n",
    "if __name__ == '__main__':\n",
    "    N = int(input())\n",
    "    li = []\n",
    "    for _ in range(N):\n",
    "        s = list(map(str,input().split()))\n",
    "        if s[0]=='insert':\n",
    "            li.insert(int(s[1]),int(s[2]))      \n",
    "        if s[0]=='remove':\n",
    "            li.remove(int(s[1]))\n",
    "        if s[0]=='append':\n",
    "            li.append(int(s[1]))\n",
    "        if s[0]=='sort':\n",
    "            li.sort()\n",
    "        if s[0]=='pop':\n",
    "            li.pop()\n",
    "        if s[0]=='reverse':\n",
    "            li.reverse()\n",
    "        if s[0]=='print':\n",
    "            print(li)\n",
    "            \n",
    "# 12\n",
    "# insert 0 5\n",
    "# insert 1 10\n",
    "# insert 0 6\n",
    "# print\n",
    "# remove 6\n",
    "# append 9\n",
    "# append 1\n",
    "# sort\n",
    "# print\n",
    "# pop\n",
    "# reverse\n",
    "# print"
   ]
  },
  {
   "cell_type": "code",
   "execution_count": 3,
   "id": "89b48bd2",
   "metadata": {},
   "outputs": [
    {
     "name": "stdout",
     "output_type": "stream",
     "text": [
      "2\n",
      "1 2\n",
      "-3550055125485641917\n"
     ]
    }
   ],
   "source": [
    "#tuples\n",
    "# read number of values\n",
    "n = int(input()) \n",
    "#read values\n",
    "t = tuple(map(int,input().split()))\n",
    "print(hash(t))\n",
    "\n",
    "# 2\n",
    "# 1 2"
   ]
  },
  {
   "cell_type": "code",
   "execution_count": 4,
   "id": "4ae7fcdc",
   "metadata": {},
   "outputs": [
    {
     "name": "stdout",
     "output_type": "stream",
     "text": [
      "10\n",
      "161 182 161 154 176 170 167 171 170 174\n",
      "169.375\n"
     ]
    }
   ],
   "source": [
    "#introduction to sets\n",
    "def average(array):\n",
    "    # your code goes here\n",
    "    s = set(arr)\n",
    "    sum_ele = 0\n",
    "    j = 0\n",
    "    for i in s:\n",
    "        sum_ele += i\n",
    "        j += 1\n",
    "    average = f'{sum_ele/j:.3f}'\n",
    "    return average\n",
    "if __name__ == '__main__':\n",
    "    n = int(input())\n",
    "    arr = list(map(int, input().split()))\n",
    "    result = average(arr)\n",
    "    print(result)\n",
    "#10    \n",
    "# 161 182 161 154 176 170 167 171 170 174   "
   ]
  },
  {
   "cell_type": "code",
   "execution_count": 5,
   "id": "ae16b400",
   "metadata": {},
   "outputs": [
    {
     "name": "stdout",
     "output_type": "stream",
     "text": [
      "3 2\n",
      "1 5 3\n",
      "3 1\n",
      "5 7\n",
      "1\n"
     ]
    }
   ],
   "source": [
    "#no idea\n",
    "sizes = list(map(int,input().split()))\n",
    "arr = list(map(int,input().split()))\n",
    "A = set(map(int,input().split()))\n",
    "B = set(map(int,input().split()))\n",
    "h = 0\n",
    "for i in arr:\n",
    "    if i in A:\n",
    "        h += 1\n",
    "    elif i in B:\n",
    "        h -= 1\n",
    "print(h)\n",
    "\n",
    "# 3 2\n",
    "# 1 5 3\n",
    "# 3 1\n",
    "# 5 7"
   ]
  },
  {
   "cell_type": "code",
   "execution_count": 6,
   "id": "7b2a476a",
   "metadata": {},
   "outputs": [
    {
     "name": "stdout",
     "output_type": "stream",
     "text": [
      "4\n",
      "2 4 5 9\n",
      "4\n",
      "2 4 11 12\n",
      "5\n",
      "9\n",
      "11\n",
      "12\n"
     ]
    }
   ],
   "source": [
    "# symmetric difference\n",
    "m = int(input())\n",
    "a = set(map(int,input().split()))\n",
    "n = int(input())\n",
    "b = set(map(int,input().split()))\n",
    "li = []\n",
    "j = 0\n",
    "for i in a:\n",
    "    if i not in b:\n",
    "        li.insert(j,i)\n",
    "        j += 1\n",
    "for i in b:\n",
    "    if i not in a:\n",
    "        li.insert(j,i)\n",
    "        j += 1\n",
    "li.sort()\n",
    "for i in li:\n",
    "    print(i)\n",
    "    \n",
    "#     4           set a size M = 4\n",
    "# 2 4 5 9     a = {2, 4, 5, 9}\n",
    "# 4           set b size N = 4\n",
    "# 2 4 11 12   b = {2, 4, 11, 12}\n"
   ]
  },
  {
   "cell_type": "code",
   "execution_count": 7,
   "id": "c0d4fa16",
   "metadata": {},
   "outputs": [
    {
     "name": "stdout",
     "output_type": "stream",
     "text": [
      "7\n",
      "UK\n",
      "China\n",
      "USA\n",
      "France\n",
      "New Zealand\n",
      "UK\n",
      "France\n",
      "5\n"
     ]
    }
   ],
   "source": [
    "# set add()\n",
    "num = int(input())\n",
    "s1 = set()\n",
    "count = 0\n",
    "for i in range(num):\n",
    "    c_name = input()\n",
    "    s1.add(c_name)\n",
    "for i in s1:\n",
    "    count += 1\n",
    "print(count)\n",
    "\n",
    "# 7\n",
    "# UK\n",
    "# China\n",
    "# USA\n",
    "# France\n",
    "# New Zealand\n",
    "# UK\n",
    "# France "
   ]
  },
  {
   "cell_type": "code",
   "execution_count": 8,
   "id": "b8f6fa7b",
   "metadata": {},
   "outputs": [
    {
     "name": "stdout",
     "output_type": "stream",
     "text": [
      "9\n",
      "1 2 3 4 5 6 7 8 9\n",
      "10\n",
      "pop\n",
      "remove 9\n",
      "discard 9\n",
      "discard 8\n",
      "remove 7\n",
      "pop\n",
      "discard 6\n",
      "pop\n",
      "discard 5\n",
      "print\n",
      "4\n"
     ]
    }
   ],
   "source": [
    "#set discard(),remove() and pop()\n",
    "n = int(input())\n",
    "s = set(map(int, input().split()))\n",
    "N = int(input())\n",
    "for _ in range(N):\n",
    "     st = list(map(str,input().split()))    \n",
    "     if st[0]=='remove':\n",
    "            s.remove(int(st[1]))\n",
    "     if st[0]=='pop':\n",
    "            s.pop()\n",
    "     if st[0]=='discard':\n",
    "            s.discard(int(st[1]))\n",
    "\n",
    "for i in s:\n",
    "    print(i)\n",
    "\n",
    "    \n",
    "#9\n",
    "# 1 2 3 4 5 6 7 8 9\n",
    "# 10\n",
    "# pop\n",
    "# remove 9\n",
    "# discard 9\n",
    "# discard 8\n",
    "# remove 7\n",
    "# pop \n",
    "# discard 6\n",
    "# remove 5\n",
    "# pop \n",
    "# discard 5\n"
   ]
  },
  {
   "cell_type": "code",
   "execution_count": 9,
   "id": "fb7f4ad2",
   "metadata": {},
   "outputs": [
    {
     "name": "stdout",
     "output_type": "stream",
     "text": [
      "9\n",
      "1 2 3 4 5 6 7 8 9\n",
      "9 \n",
      "10\n",
      "10\n"
     ]
    }
   ],
   "source": [
    "#set union operation\n",
    "m = int(input())\n",
    "a = set(map(int,input().split()))\n",
    "n = int(input())\n",
    "b = set(map(int,input().split()))\n",
    "s = []\n",
    "count = 0\n",
    "for i in a:\n",
    "    s.append(i)\n",
    "    count += 1\n",
    "for i in b:\n",
    "    if i not in s:\n",
    "      s.append(i)\n",
    "      count += 1\n",
    "print(count)\n",
    "\n",
    "# 9\n",
    "# 1 2 3 4 5 6 7 8 9\n",
    "# 9\n",
    "# 10 1 2 3 11 21 55 6 8"
   ]
  },
  {
   "cell_type": "code",
   "execution_count": 10,
   "id": "ce97ac0d",
   "metadata": {},
   "outputs": [
    {
     "name": "stdout",
     "output_type": "stream",
     "text": [
      "9\n",
      "1 2 3 4 5 6 7 8 9 \n",
      "9\n",
      "10 1 2 3 11 21 55 6 8\n",
      "5\n"
     ]
    }
   ],
   "source": [
    "# set intersection\n",
    "m = int(input())\n",
    "a = set(map(int,input().split()))\n",
    "n = int(input())\n",
    "b = set(map(int,input().split()))\n",
    "s = []\n",
    "count = 0\n",
    "for i in a:\n",
    "   if i in b: \n",
    "    s.append(i)\n",
    "    count += 1\n",
    "print(count)\n"
   ]
  },
  {
   "cell_type": "code",
   "execution_count": 11,
   "id": "b64bb654",
   "metadata": {},
   "outputs": [
    {
     "name": "stdout",
     "output_type": "stream",
     "text": [
      "9\n",
      "1 2 3 4 5 6 7 8 9\n",
      "9\n",
      "10 1 2 3 11 21 55 6 8\n",
      "4\n"
     ]
    }
   ],
   "source": [
    "#set difference\n",
    "m = int(input())\n",
    "a = set(map(int,input().split()))\n",
    "n = int(input())\n",
    "b = set(map(int,input().split()))\n",
    "s = []\n",
    "count = 0\n",
    "for i in a:\n",
    "   if i not in b: \n",
    "    s.append(i)\n",
    "    count += 1\n",
    "print(count)\n",
    "\n",
    "# 9\n",
    "# 1 2 3 4 5 6 7 8 9\n",
    "# 9\n",
    "# 10 1 2 3 11 21 55 6 8"
   ]
  },
  {
   "cell_type": "code",
   "execution_count": 12,
   "id": "62e433e5",
   "metadata": {},
   "outputs": [
    {
     "name": "stdout",
     "output_type": "stream",
     "text": [
      "9\n",
      "1 2 3 4 5 6 7 8 9\n",
      "9\n",
      "10 1 2 3 11 21 55 6 8\n",
      "8\n"
     ]
    }
   ],
   "source": [
    "#set symmetric difference\n",
    "m = int(input())\n",
    "a = set(map(int,input().split()))\n",
    "n = int(input())\n",
    "b = set(map(int,input().split()))\n",
    "s = []\n",
    "count = 0\n",
    "for i in a:\n",
    "   if i not in b: \n",
    "    s.append(i)\n",
    "    count += 1\n",
    "for i in b:\n",
    "   if i not in a: \n",
    "    s.append(i)\n",
    "    count += 1\n",
    "print(count)\n",
    "\n",
    "# 9\n",
    "# 1 2 3 4 5 6 7 8 9\n",
    "# 9\n",
    "# 10 1 2 3 11 21 55 6 8"
   ]
  },
  {
   "cell_type": "code",
   "execution_count": 1,
   "id": "965456a3",
   "metadata": {},
   "outputs": [
    {
     "name": "stdout",
     "output_type": "stream",
     "text": [
      "16\n",
      "1 2 3 4 5 6 7 8 9 10 11 12 13 14 24 52\n",
      "4\n",
      "intersection_update 10\n",
      "2 3 5 6 8 9 1 4 7 11\n",
      "update 2\n",
      "55 66\n",
      "symmetric_difference_update 5\n",
      "22 7 35 62 58\n",
      "difference_update 7\n",
      "11 22 35 55 58 62 66\n",
      "38\n"
     ]
    }
   ],
   "source": [
    "#set mutations\n",
    "n = int(input())\n",
    "A = set(map(int, input().split()))\n",
    "N = int(input())\n",
    "\n",
    "set_dict = {}\n",
    "\n",
    "for i in range(N):\n",
    "    s = list(map(str, input().split()))\n",
    "    nums = set(map(int, input().split()))\n",
    "    \n",
    "    if s[0]=='intersection_update':\n",
    "        A.intersection_update(nums)\n",
    "    elif  s[0]== 'update':\n",
    "            A.update(nums)\n",
    "        \n",
    "    elif s[0] == 'symmetric_difference_update':\n",
    "            A.symmetric_difference_update(nums)\n",
    "        \n",
    "    elif s[0] == 'difference_update':\n",
    "            A.difference_update(nums)\n",
    "\n",
    "print(sum(A))\n",
    "\n",
    "#  16\n",
    "#  1 2 3 4 5 6 7 8 9 10 11 12 13 14 24 52\n",
    "#  4\n",
    "#  intersection_update 10\n",
    "#  2 3 5 6 8 9 1 4 7 11\n",
    "#  update 2\n",
    "#  55 66\n",
    "#  symmetric_difference_update 5\n",
    "#  22 7 35 62 58\n",
    "#  difference_update 7\n",
    "#  11 22 35 55 58 62 66"
   ]
  },
  {
   "cell_type": "code",
   "execution_count": 1,
   "id": "e046cb36",
   "metadata": {},
   "outputs": [
    {
     "name": "stdout",
     "output_type": "stream",
     "text": [
      "5\n",
      "1 2 3 4 2 3 1 4 1 2 3  4 6 1 2 3 4 1 2 3 4\n",
      "6\n"
     ]
    }
   ],
   "source": [
    "# captain's room\n",
    "n = int(input())\n",
    "li = list(map(int,input().split()))\n",
    "count = {}\n",
    "for i in li:\n",
    "    if i in count.keys():\n",
    "        count[i] += 1\n",
    "    else:\n",
    "        count[i] = 1\n",
    "for k in count.keys():\n",
    "    if count[k]==1:\n",
    "        print(k)\n",
    "    "
   ]
  },
  {
   "cell_type": "code",
   "execution_count": 2,
   "id": "f52fb0e5",
   "metadata": {},
   "outputs": [
    {
     "name": "stdout",
     "output_type": "stream",
     "text": [
      "3\n",
      "5\n",
      "1 2 3 5 6\n",
      "9\n",
      "9 8 5 6 3 2 1 4 7\n",
      "True\n",
      "1 \n",
      "2\n",
      "5\n",
      "3 6 5 4 1\n",
      "False\n",
      "7\n",
      "1 2 3 5 6 8 9\n",
      "3 \n",
      "9 8 2\n",
      "False\n"
     ]
    }
   ],
   "source": [
    "# check subset\n",
    "t = int(input())\n",
    "while(t>0):\n",
    "    n = int(input())\n",
    "    A = list(map(int,input().split()))\n",
    "    m = int(input())\n",
    "    B = list(map(int,input().split()))\n",
    "    flag = 0\n",
    "    for i in A:\n",
    "        if i not in B:\n",
    "            flag = 1\n",
    "            break\n",
    "        else:\n",
    "            continue\n",
    "    if flag==1:\n",
    "        print('False')\n",
    "    else:\n",
    "        print('True')\n",
    "    t -= 1\n",
    "    \n",
    "# 3\n",
    "# 5\n",
    "# 1 2 3 5 6\n",
    "# 9\n",
    "# 9 8 5 6 3 2 1 4 7\n",
    "# 1\n",
    "# 2\n",
    "# 5\n",
    "# 3 6 5 4 1\n",
    "# 7\n",
    "# 1 2 3 5 6 8 9\n",
    "# 3\n",
    "# 9 8 2"
   ]
  },
  {
   "cell_type": "code",
   "execution_count": 3,
   "id": "33d1a65e",
   "metadata": {},
   "outputs": [
    {
     "name": "stdout",
     "output_type": "stream",
     "text": [
      "1 2 3 4 5 6 7 8 9 10 11 12 23 45 84 78\n",
      "2\n",
      "1 2 3 4 5\n",
      "100 11 12\n",
      "False\n"
     ]
    }
   ],
   "source": [
    "# check strict superset\n",
    "A = list(map(int,input().split()))\n",
    "n = int(input())\n",
    "for _ in range(n):\n",
    "    flag = 0\n",
    "    li = list(map(int,input().split()))\n",
    "    if len(li) < len(A):\n",
    "        for i in li:\n",
    "            if i not in A:\n",
    "                flag=1\n",
    "            else:\n",
    "                continue\n",
    "    else:\n",
    "        flag = 1              \n",
    "if flag==1:\n",
    "    print('False')\n",
    "else:\n",
    "    print('True')\n",
    "    \n",
    "# 1 2 3 4 5 6 7 8 9 10 11 12 23 45 84 78\n",
    "# 2\n",
    "# 1 2 3 4 5\n",
    "# 100 11 12"
   ]
  }
 ],
 "metadata": {
  "kernelspec": {
   "display_name": "Python 3 (ipykernel)",
   "language": "python",
   "name": "python3"
  },
  "language_info": {
   "codemirror_mode": {
    "name": "ipython",
    "version": 3
   },
   "file_extension": ".py",
   "mimetype": "text/x-python",
   "name": "python",
   "nbconvert_exporter": "python",
   "pygments_lexer": "ipython3",
   "version": "3.9.12"
  }
 },
 "nbformat": 4,
 "nbformat_minor": 5
}
